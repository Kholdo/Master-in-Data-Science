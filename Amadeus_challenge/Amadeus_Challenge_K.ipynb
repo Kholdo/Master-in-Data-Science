{
 "cells": [
  {
   "cell_type": "markdown",
   "metadata": {},
   "source": [
    "## Primer Apartado"
   ]
  },
  {
   "cell_type": "code",
   "execution_count": 42,
   "metadata": {
    "collapsed": false
   },
   "outputs": [
    {
     "name": "stdout",
     "output_type": "stream",
     "text": [
      "/home/dsc/Repositories/Koldo/Master-in-Data-Science-2016/Amadeus_challenge\r\n"
     ]
    }
   ],
   "source": [
    "! pwd"
   ]
  },
  {
   "cell_type": "code",
   "execution_count": 43,
   "metadata": {
    "collapsed": true
   },
   "outputs": [],
   "source": [
    "paths_to_zips = '/home/dsc/Data/challenge/'"
   ]
  },
  {
   "cell_type": "code",
   "execution_count": 44,
   "metadata": {
    "collapsed": false,
    "scrolled": true
   },
   "outputs": [
    {
     "name": "stdout",
     "output_type": "stream",
     "text": [
      "bookings.csv.bz2  searches.csv.bz2\r\n"
     ]
    }
   ],
   "source": [
    "! ls {paths_to_zips}"
   ]
  },
  {
   "cell_type": "code",
   "execution_count": 45,
   "metadata": {
    "collapsed": true
   },
   "outputs": [],
   "source": [
    "#Vamos a ver que hay en el fichero y trabajar so¡ólamente con un sample de 1000 lineas, por ejemplo"
   ]
  },
  {
   "cell_type": "code",
   "execution_count": 46,
   "metadata": {
    "collapsed": false
   },
   "outputs": [
    {
     "name": "stdout",
     "output_type": "stream",
     "text": [
      "\r\n",
      "bzcat: I/O or other error, bailing out.  Possible reason follows.\r\n",
      "bzcat: Broken pipe\r\n",
      "\tInput file = /home/dsc/Data/challenge/bookings.csv.bz2, output file = (stdout)\r\n"
     ]
    }
   ],
   "source": [
    "! bzcat {paths_to_zips}bookings.csv.bz2 | head -1000 > bookings.sample.csv"
   ]
  },
  {
   "cell_type": "code",
   "execution_count": 47,
   "metadata": {
    "collapsed": false
   },
   "outputs": [
    {
     "name": "stdout",
     "output_type": "stream",
     "text": [
      "total 896\r\n",
      "-rw-rw-r--. 1 dsc dsc   7858 Dec  2 17:37 Amadeus_Challenge_K.ipynb\r\n",
      "-rw-rw-r--. 1 dsc dsc 425006 Dec  2 17:37 bookings.sample.csv\r\n",
      "-rw-rw-r--. 1 dsc dsc  54834 Dec  2 17:14 bookings.sample.csv.bz2\r\n",
      "-rw-rw-r--. 1 dsc dsc 425006 Dec  2 17:25 bookings.sample.csv.csv\r\n"
     ]
    }
   ],
   "source": [
    "! ls -l"
   ]
  },
  {
   "cell_type": "code",
   "execution_count": 48,
   "metadata": {
    "collapsed": false
   },
   "outputs": [
    {
     "name": "stdout",
     "output_type": "stream",
     "text": [
      "bzip2: Output file bookings.sample.csv.bz2 already exists.\r\n"
     ]
    }
   ],
   "source": [
    "! bzip2 bookings.sample.csv"
   ]
  },
  {
   "cell_type": "code",
   "execution_count": 49,
   "metadata": {
    "collapsed": false,
    "scrolled": true
   },
   "outputs": [
    {
     "name": "stdout",
     "output_type": "stream",
     "text": [
      "1000\r\n"
     ]
    }
   ],
   "source": [
    "! bzcat bookings.sample.csv.bz2 | wc -l"
   ]
  },
  {
   "cell_type": "code",
   "execution_count": 50,
   "metadata": {
    "collapsed": true
   },
   "outputs": [],
   "source": [
    "#Otra alternatica de obtener la respuesta pero en Python, no en linea de comandos."
   ]
  },
  {
   "cell_type": "code",
   "execution_count": 51,
   "metadata": {
    "collapsed": true
   },
   "outputs": [],
   "source": [
    "import bz2"
   ]
  },
  {
   "cell_type": "code",
   "execution_count": 52,
   "metadata": {
    "collapsed": true
   },
   "outputs": [],
   "source": [
    "fileBz2 = bz2.BZ2File('./bookings.sample.csv.bz2')"
   ]
  },
  {
   "cell_type": "code",
   "execution_count": 53,
   "metadata": {
    "collapsed": false
   },
   "outputs": [
    {
     "name": "stdout",
     "output_type": "stream",
     "text": [
      "./bookings.sample.csv.bz2 has 1000 lines.\n"
     ]
    }
   ],
   "source": [
    "k = 0\n",
    "\n",
    "for line in fileBz2:\n",
    "    k += 1\n",
    "print \"%s has %d lines.\" %(fileBz2.name, k)"
   ]
  },
  {
   "cell_type": "code",
   "execution_count": 54,
   "metadata": {
    "collapsed": true
   },
   "outputs": [],
   "source": [
    "#Hacemos una copia para luego descomprimirlo"
   ]
  },
  {
   "cell_type": "code",
   "execution_count": 55,
   "metadata": {
    "collapsed": false
   },
   "outputs": [],
   "source": [
    "! cp ./bookings.sample.csv.bz2 ./bookings.sample.csv.csv.bz2"
   ]
  },
  {
   "cell_type": "code",
   "execution_count": 56,
   "metadata": {
    "collapsed": false
   },
   "outputs": [
    {
     "name": "stdout",
     "output_type": "stream",
     "text": [
      "bunzip2: Output file ./bookings.sample.csv.csv already exists.\r\n"
     ]
    }
   ],
   "source": [
    "! bunzip2 ./bookings.sample.csv.csv.bz2"
   ]
  },
  {
   "cell_type": "code",
   "execution_count": 57,
   "metadata": {
    "collapsed": false
   },
   "outputs": [
    {
     "name": "stdout",
     "output_type": "stream",
     "text": [
      "total 952\r\n",
      "-rw-rw-r--. 1 dsc dsc   7858 Dec  2 17:37 Amadeus_Challenge_K.ipynb\r\n",
      "-rw-rw-r--. 1 dsc dsc 425006 Dec  2 17:37 bookings.sample.csv\r\n",
      "-rw-rw-r--. 1 dsc dsc  54834 Dec  2 17:14 bookings.sample.csv.bz2\r\n",
      "-rw-rw-r--. 1 dsc dsc 425006 Dec  2 17:25 bookings.sample.csv.csv\r\n",
      "-rw-rw-r--. 1 dsc dsc  54834 Dec  2 17:38 bookings.sample.csv.csv.bz2\r\n"
     ]
    }
   ],
   "source": [
    "! ls -l"
   ]
  },
  {
   "cell_type": "code",
   "execution_count": 58,
   "metadata": {
    "collapsed": true
   },
   "outputs": [],
   "source": [
    "#Otra forma de hacerlo: Con with el fichero se cierra despies de haver el bucle"
   ]
  },
  {
   "cell_type": "code",
   "execution_count": 59,
   "metadata": {
    "collapsed": false
   },
   "outputs": [
    {
     "name": "stdout",
     "output_type": "stream",
     "text": [
      "File has 10 lines.\n"
     ]
    }
   ],
   "source": [
    "with open('./bookings.sample.csv.csv') as input_file:\n",
    "    k = 0\n",
    "    for line in input_file:\n",
    "        if k == 10:\n",
    "            break\n",
    "        k += 1\n",
    "print \"File has %d lines.\" %k"
   ]
  },
  {
   "cell_type": "code",
   "execution_count": 60,
   "metadata": {
    "collapsed": false
   },
   "outputs": [
    {
     "name": "stdout",
     "output_type": "stream",
     "text": [
      "Variable        Type       Data/Info\n",
      "------------------------------------\n",
      "BeautifulSoup   type       <class 'bs4.BeautifulSoup'>\n",
      "bz2             module     <module 'bz2' from '/home<...>n2.7/lib-dynload/bz2.so'>\n",
      "fileBz2         BZ2File    <bz2.BZ2File object at 0x7f1254181b90>\n",
      "input_file      file       <closed file './bookings.<...>de 'r' at 0x7f12545c0930>\n",
      "k               int        10\n",
      "like            str        2013-03-25 00:00:00^1V   <...>3:56^2^2013^3^NULL     \\n\n",
      "line            str        2013-03-25 00:00:00^1V   <...>3:56^2^2013^3^NULL     \\n\n",
      "lxml            module     <module 'lxml' from '/hom<...>kages/lxml/__init__.pyc'>\n",
      "paths_to_zips   str        /home/dsc/Data/challenge/\n"
     ]
    }
   ],
   "source": [
    "%whos"
   ]
  },
  {
   "cell_type": "code",
   "execution_count": 61,
   "metadata": {
    "collapsed": true
   },
   "outputs": [],
   "source": [
    "#Otra forma"
   ]
  },
  {
   "cell_type": "code",
   "execution_count": 62,
   "metadata": {
    "collapsed": false
   },
   "outputs": [
    {
     "name": "stdout",
     "output_type": "stream",
     "text": [
      "File has 1000 lines.\n"
     ]
    }
   ],
   "source": [
    "try:\n",
    "    with open('./bookings.sample.csv.csv') as input_file:\n",
    "        for k, line in enumerate(input_file):\n",
    "            pass\n",
    "    print \"File has %d lines.\" %(k+1)\n",
    "except IOError:\n",
    "    print \"Did not open\"\n",
    "except ValueError:\n",
    "    print \" Could not convert a int\"\n",
    "except:\n",
    "    print \"Unknown error\""
   ]
  },
  {
   "cell_type": "code",
   "execution_count": 63,
   "metadata": {
    "collapsed": true
   },
   "outputs": [],
   "source": [
    "#Otra forma"
   ]
  },
  {
   "cell_type": "code",
   "execution_count": 64,
   "metadata": {
    "collapsed": true
   },
   "outputs": [],
   "source": [
    "import glob #El tema de esto es conocer que existe la libreria"
   ]
  },
  {
   "cell_type": "code",
   "execution_count": 66,
   "metadata": {
    "collapsed": true
   },
   "outputs": [],
   "source": [
    "files_to_read = glob.glob(\"*.ipynb\") #Devuelve los nombres de ficheros a una lista"
   ]
  },
  {
   "cell_type": "code",
   "execution_count": 67,
   "metadata": {
    "collapsed": false
   },
   "outputs": [
    {
     "data": {
      "text/plain": [
       "['Amadeus_Challenge_K.ipynb']"
      ]
     },
     "execution_count": 67,
     "metadata": {},
     "output_type": "execute_result"
    }
   ],
   "source": [
    "files_to_read"
   ]
  },
  {
   "cell_type": "code",
   "execution_count": 68,
   "metadata": {
    "collapsed": false
   },
   "outputs": [
    {
     "name": "stdout",
     "output_type": "stream",
     "text": [
      "total 956\r\n",
      "-rw-rw-r--. 1 dsc dsc   9524 Dec  2 17:40 Amadeus_Challenge_K.ipynb\r\n",
      "-rw-rw-r--. 1 dsc dsc 425006 Dec  2 17:37 bookings.sample.csv\r\n",
      "-rw-rw-r--. 1 dsc dsc  54834 Dec  2 17:14 \u001b[0m\u001b[01;31mbookings.sample.csv.bz2\u001b[0m\r\n",
      "-rw-rw-r--. 1 dsc dsc 425006 Dec  2 17:25 bookings.sample.csv.csv\r\n",
      "-rw-rw-r--. 1 dsc dsc  54834 Dec  2 17:38 \u001b[01;31mbookings.sample.csv.csv.bz2\u001b[0m\r\n"
     ]
    }
   ],
   "source": [
    "ls -l"
   ]
  },
  {
   "cell_type": "markdown",
   "metadata": {},
   "source": [
    "## Segundo ejercicio"
   ]
  },
  {
   "cell_type": "code",
   "execution_count": 70,
   "metadata": {
    "collapsed": true
   },
   "outputs": [],
   "source": [
    "# Prepare the book sample"
   ]
  },
  {
   "cell_type": "code",
   "execution_count": 71,
   "metadata": {
    "collapsed": false
   },
   "outputs": [
    {
     "name": "stdout",
     "output_type": "stream",
     "text": [
      "/home/dsc/Repositories/Koldo/Master-in-Data-Science-2016/Amadeus_challenge\r\n"
     ]
    }
   ],
   "source": [
    "!pwd"
   ]
  },
  {
   "cell_type": "code",
   "execution_count": 73,
   "metadata": {
    "collapsed": false
   },
   "outputs": [
    {
     "name": "stdout",
     "output_type": "stream",
     "text": [
      "total 956\r\n",
      "-rw-rw-r--. 1 dsc dsc  10385 Dec  2 17:42 Amadeus_Challenge_K.ipynb\r\n",
      "-rw-rw-r--. 1 dsc dsc 425006 Dec  2 17:37 bookings.sample.csv\r\n",
      "-rw-rw-r--. 1 dsc dsc  54834 Dec  2 17:14 bookings.sample.csv.bz2\r\n",
      "-rw-rw-r--. 1 dsc dsc 425006 Dec  2 17:25 bookings.sample.csv.csv\r\n",
      "-rw-rw-r--. 1 dsc dsc  54834 Dec  2 17:38 bookings.sample.csv.csv.bz2\r\n"
     ]
    }
   ],
   "source": [
    "!ls -l"
   ]
  },
  {
   "cell_type": "code",
   "execution_count": 74,
   "metadata": {
    "collapsed": true
   },
   "outputs": [],
   "source": [
    "import pandas as pd"
   ]
  },
  {
   "cell_type": "code",
   "execution_count": 75,
   "metadata": {
    "collapsed": true
   },
   "outputs": [],
   "source": [
    "b = pd.read_csv('./bookings.sample.csv.bz2', sep = '^')"
   ]
  },
  {
   "cell_type": "code",
   "execution_count": 77,
   "metadata": {
    "collapsed": true
   },
   "outputs": [],
   "source": [
    "#Otra forma\n",
    "#b = pd.read_csv('./booking.csv.bz2'), sep = '^', nrows = 1000)"
   ]
  },
  {
   "cell_type": "code",
   "execution_count": 76,
   "metadata": {
    "collapsed": true
   },
   "outputs": [],
   "source": [
    "#La columna interesante es arr_port\n",
    "#Año 2013\n",
    "#cre_date: fecha de creacion\n",
    "#act_date: modificacion de la reserva"
   ]
  },
  {
   "cell_type": "code",
   "execution_count": 78,
   "metadata": {
    "collapsed": false
   },
   "outputs": [
    {
     "data": {
      "text/html": [
       "<div>\n",
       "<table border=\"1\" class=\"dataframe\">\n",
       "  <thead>\n",
       "    <tr style=\"text-align: right;\">\n",
       "      <th></th>\n",
       "      <th>act_date</th>\n",
       "      <th>source</th>\n",
       "      <th>pos_ctry</th>\n",
       "      <th>pos_iata</th>\n",
       "      <th>pos_oid</th>\n",
       "      <th>rloc</th>\n",
       "      <th>cre_date</th>\n",
       "      <th>duration</th>\n",
       "      <th>distance</th>\n",
       "      <th>dep_port</th>\n",
       "      <th>...</th>\n",
       "      <th>route</th>\n",
       "      <th>carrier</th>\n",
       "      <th>bkg_class</th>\n",
       "      <th>cab_class</th>\n",
       "      <th>brd_time</th>\n",
       "      <th>off_time</th>\n",
       "      <th>pax</th>\n",
       "      <th>year</th>\n",
       "      <th>month</th>\n",
       "      <th>oid</th>\n",
       "    </tr>\n",
       "  </thead>\n",
       "  <tbody>\n",
       "    <tr>\n",
       "      <th>0</th>\n",
       "      <td>2013-03-05 00:00:00</td>\n",
       "      <td>1A</td>\n",
       "      <td>DE</td>\n",
       "      <td>a68dd7ae953c8acfb187a1af2dcbe123</td>\n",
       "      <td>1a11ae49fcbf545fd2afc1a24d88d2b7</td>\n",
       "      <td>ea65900e72d71f4626378e2ebd298267</td>\n",
       "      <td>2013-02-22 00:00:00</td>\n",
       "      <td>1708</td>\n",
       "      <td>0</td>\n",
       "      <td>ZRH</td>\n",
       "      <td>...</td>\n",
       "      <td>LHRZRH</td>\n",
       "      <td>VI</td>\n",
       "      <td>T</td>\n",
       "      <td>Y</td>\n",
       "      <td>2013-03-07 08:50:00</td>\n",
       "      <td>2013-03-07 11:33:37</td>\n",
       "      <td>-1</td>\n",
       "      <td>2013</td>\n",
       "      <td>3</td>\n",
       "      <td>NULL</td>\n",
       "    </tr>\n",
       "    <tr>\n",
       "      <th>1</th>\n",
       "      <td>2013-03-26 00:00:00</td>\n",
       "      <td>1A</td>\n",
       "      <td>US</td>\n",
       "      <td>e612b9eeeee6f17f42d9b0d3b79e75ca</td>\n",
       "      <td>7437560d8f276d6d05eeb806d9e7edee</td>\n",
       "      <td>737295a86982c941f1c2da9a46a14043</td>\n",
       "      <td>2013-03-26 00:00:00</td>\n",
       "      <td>135270</td>\n",
       "      <td>0</td>\n",
       "      <td>SAL</td>\n",
       "      <td>...</td>\n",
       "      <td>SALATLCLT</td>\n",
       "      <td>NV</td>\n",
       "      <td>L</td>\n",
       "      <td>Y</td>\n",
       "      <td>2013-04-12 13:04:00</td>\n",
       "      <td>2013-04-12 22:05:40</td>\n",
       "      <td>1</td>\n",
       "      <td>2013</td>\n",
       "      <td>3</td>\n",
       "      <td>NULL</td>\n",
       "    </tr>\n",
       "    <tr>\n",
       "      <th>2</th>\n",
       "      <td>2013-03-26 00:00:00</td>\n",
       "      <td>1A</td>\n",
       "      <td>US</td>\n",
       "      <td>e612b9eeeee6f17f42d9b0d3b79e75ca</td>\n",
       "      <td>7437560d8f276d6d05eeb806d9e7edee</td>\n",
       "      <td>737295a86982c941f1c2da9a46a14043</td>\n",
       "      <td>2013-03-26 00:00:00</td>\n",
       "      <td>135270</td>\n",
       "      <td>0</td>\n",
       "      <td>SAL</td>\n",
       "      <td>...</td>\n",
       "      <td>CLTATLSAL</td>\n",
       "      <td>NV</td>\n",
       "      <td>U</td>\n",
       "      <td>Y</td>\n",
       "      <td>2013-07-15 07:00:00</td>\n",
       "      <td>2013-07-15 11:34:51</td>\n",
       "      <td>1</td>\n",
       "      <td>2013</td>\n",
       "      <td>3</td>\n",
       "      <td>NULL</td>\n",
       "    </tr>\n",
       "    <tr>\n",
       "      <th>3</th>\n",
       "      <td>2013-03-26 00:00:00</td>\n",
       "      <td>1A</td>\n",
       "      <td>AU</td>\n",
       "      <td>0f984b3bb6bd06661c95529bbd6193bc</td>\n",
       "      <td>36472c6dbaf7afec9136ac40364e2794</td>\n",
       "      <td>5ecf00fdcbcec761c43dc7285253d0c1</td>\n",
       "      <td>2013-03-26 00:00:00</td>\n",
       "      <td>30885</td>\n",
       "      <td>0</td>\n",
       "      <td>AKL</td>\n",
       "      <td>...</td>\n",
       "      <td>AKLHKGSVO</td>\n",
       "      <td>XK</td>\n",
       "      <td>G</td>\n",
       "      <td>Y</td>\n",
       "      <td>2013-04-24 23:59:00</td>\n",
       "      <td>2013-04-25 16:06:31</td>\n",
       "      <td>1</td>\n",
       "      <td>2013</td>\n",
       "      <td>3</td>\n",
       "      <td>SYDA82546</td>\n",
       "    </tr>\n",
       "    <tr>\n",
       "      <th>4</th>\n",
       "      <td>2013-03-26 00:00:00</td>\n",
       "      <td>1A</td>\n",
       "      <td>AU</td>\n",
       "      <td>0f984b3bb6bd06661c95529bbd6193bc</td>\n",
       "      <td>36472c6dbaf7afec9136ac40364e2794</td>\n",
       "      <td>5ecf00fdcbcec761c43dc7285253d0c1</td>\n",
       "      <td>2013-03-26 00:00:00</td>\n",
       "      <td>30885</td>\n",
       "      <td>0</td>\n",
       "      <td>AKL</td>\n",
       "      <td>...</td>\n",
       "      <td>SVOHKGAKL</td>\n",
       "      <td>XK</td>\n",
       "      <td>G</td>\n",
       "      <td>Y</td>\n",
       "      <td>2013-05-14 20:15:00</td>\n",
       "      <td>2013-05-16 10:44:50</td>\n",
       "      <td>1</td>\n",
       "      <td>2013</td>\n",
       "      <td>3</td>\n",
       "      <td>SYDA82546</td>\n",
       "    </tr>\n",
       "  </tbody>\n",
       "</table>\n",
       "<p>5 rows × 38 columns</p>\n",
       "</div>"
      ],
      "text/plain": [
       "   act_date             source  pos_ctry                          pos_iata  \\\n",
       "0  2013-03-05 00:00:00  1A      DE        a68dd7ae953c8acfb187a1af2dcbe123   \n",
       "1  2013-03-26 00:00:00  1A      US        e612b9eeeee6f17f42d9b0d3b79e75ca   \n",
       "2  2013-03-26 00:00:00  1A      US        e612b9eeeee6f17f42d9b0d3b79e75ca   \n",
       "3  2013-03-26 00:00:00  1A      AU        0f984b3bb6bd06661c95529bbd6193bc   \n",
       "4  2013-03-26 00:00:00  1A      AU        0f984b3bb6bd06661c95529bbd6193bc   \n",
       "\n",
       "                          pos_oid                      rloc            \\\n",
       "0  1a11ae49fcbf545fd2afc1a24d88d2b7  ea65900e72d71f4626378e2ebd298267   \n",
       "1  7437560d8f276d6d05eeb806d9e7edee  737295a86982c941f1c2da9a46a14043   \n",
       "2  7437560d8f276d6d05eeb806d9e7edee  737295a86982c941f1c2da9a46a14043   \n",
       "3  36472c6dbaf7afec9136ac40364e2794  5ecf00fdcbcec761c43dc7285253d0c1   \n",
       "4  36472c6dbaf7afec9136ac40364e2794  5ecf00fdcbcec761c43dc7285253d0c1   \n",
       "\n",
       "   cre_date             duration  distance  dep_port    ...      \\\n",
       "0  2013-02-22 00:00:00      1708         0  ZRH         ...       \n",
       "1  2013-03-26 00:00:00    135270         0  SAL         ...       \n",
       "2  2013-03-26 00:00:00    135270         0  SAL         ...       \n",
       "3  2013-03-26 00:00:00     30885         0  AKL         ...       \n",
       "4  2013-03-26 00:00:00     30885         0  AKL         ...       \n",
       "\n",
       "   route           carrier  bkg_class  cab_class  brd_time             \\\n",
       "0  LHRZRH               VI  T          Y          2013-03-07 08:50:00   \n",
       "1  SALATLCLT            NV  L          Y          2013-04-12 13:04:00   \n",
       "2  CLTATLSAL            NV  U          Y          2013-07-15 07:00:00   \n",
       "3  AKLHKGSVO            XK  G          Y          2013-04-24 23:59:00   \n",
       "4  SVOHKGAKL            XK  G          Y          2013-05-14 20:15:00   \n",
       "\n",
       "   off_time            pax  year month  oid        \n",
       "0  2013-03-07 11:33:37  -1  2013     3  NULL       \n",
       "1  2013-04-12 22:05:40   1  2013     3  NULL       \n",
       "2  2013-07-15 11:34:51   1  2013     3  NULL       \n",
       "3  2013-04-25 16:06:31   1  2013     3  SYDA82546  \n",
       "4  2013-05-16 10:44:50   1  2013     3  SYDA82546  \n",
       "\n",
       "[5 rows x 38 columns]"
      ]
     },
     "execution_count": 78,
     "metadata": {},
     "output_type": "execute_result"
    }
   ],
   "source": [
    "b.head()"
   ]
  },
  {
   "cell_type": "code",
   "execution_count": 82,
   "metadata": {
    "collapsed": true
   },
   "outputs": [],
   "source": [
    "#Pero no podemos ver todas las columnas, Así que ahora usamos:"
   ]
  },
  {
   "cell_type": "code",
   "execution_count": 83,
   "metadata": {
    "collapsed": true
   },
   "outputs": [],
   "source": [
    "pd.set_option('display.max_columns', 100) #Si en vez de 100 pones None, te da todas las columnas"
   ]
  },
  {
   "cell_type": "code",
   "execution_count": 84,
   "metadata": {
    "collapsed": false
   },
   "outputs": [
    {
     "data": {
      "text/html": [
       "<div>\n",
       "<table border=\"1\" class=\"dataframe\">\n",
       "  <thead>\n",
       "    <tr style=\"text-align: right;\">\n",
       "      <th></th>\n",
       "      <th>act_date</th>\n",
       "      <th>source</th>\n",
       "      <th>pos_ctry</th>\n",
       "      <th>pos_iata</th>\n",
       "      <th>pos_oid</th>\n",
       "      <th>rloc</th>\n",
       "      <th>cre_date</th>\n",
       "      <th>duration</th>\n",
       "      <th>distance</th>\n",
       "      <th>dep_port</th>\n",
       "      <th>dep_city</th>\n",
       "      <th>dep_ctry</th>\n",
       "      <th>arr_port</th>\n",
       "      <th>arr_city</th>\n",
       "      <th>arr_ctry</th>\n",
       "      <th>lst_port</th>\n",
       "      <th>lst_city</th>\n",
       "      <th>lst_ctry</th>\n",
       "      <th>brd_port</th>\n",
       "      <th>brd_city</th>\n",
       "      <th>brd_ctry</th>\n",
       "      <th>off_port</th>\n",
       "      <th>off_city</th>\n",
       "      <th>off_ctry</th>\n",
       "      <th>mkt_port</th>\n",
       "      <th>mkt_city</th>\n",
       "      <th>mkt_ctry</th>\n",
       "      <th>intl</th>\n",
       "      <th>route</th>\n",
       "      <th>carrier</th>\n",
       "      <th>bkg_class</th>\n",
       "      <th>cab_class</th>\n",
       "      <th>brd_time</th>\n",
       "      <th>off_time</th>\n",
       "      <th>pax</th>\n",
       "      <th>year</th>\n",
       "      <th>month</th>\n",
       "      <th>oid</th>\n",
       "    </tr>\n",
       "  </thead>\n",
       "  <tbody>\n",
       "    <tr>\n",
       "      <th>0</th>\n",
       "      <td>2013-03-05 00:00:00</td>\n",
       "      <td>1A</td>\n",
       "      <td>DE</td>\n",
       "      <td>a68dd7ae953c8acfb187a1af2dcbe123</td>\n",
       "      <td>1a11ae49fcbf545fd2afc1a24d88d2b7</td>\n",
       "      <td>ea65900e72d71f4626378e2ebd298267</td>\n",
       "      <td>2013-02-22 00:00:00</td>\n",
       "      <td>1708</td>\n",
       "      <td>0</td>\n",
       "      <td>ZRH</td>\n",
       "      <td>ZRH</td>\n",
       "      <td>CH</td>\n",
       "      <td>LHR</td>\n",
       "      <td>LON</td>\n",
       "      <td>GB</td>\n",
       "      <td>ZRH</td>\n",
       "      <td>ZRH</td>\n",
       "      <td>CH</td>\n",
       "      <td>LHR</td>\n",
       "      <td>LON</td>\n",
       "      <td>GB</td>\n",
       "      <td>ZRH</td>\n",
       "      <td>ZRH</td>\n",
       "      <td>CH</td>\n",
       "      <td>LHRZRH</td>\n",
       "      <td>LONZRH</td>\n",
       "      <td>CHGB</td>\n",
       "      <td>1</td>\n",
       "      <td>LHRZRH</td>\n",
       "      <td>VI</td>\n",
       "      <td>T</td>\n",
       "      <td>Y</td>\n",
       "      <td>2013-03-07 08:50:00</td>\n",
       "      <td>2013-03-07 11:33:37</td>\n",
       "      <td>-1</td>\n",
       "      <td>2013</td>\n",
       "      <td>3</td>\n",
       "      <td>NULL</td>\n",
       "    </tr>\n",
       "    <tr>\n",
       "      <th>1</th>\n",
       "      <td>2013-03-26 00:00:00</td>\n",
       "      <td>1A</td>\n",
       "      <td>US</td>\n",
       "      <td>e612b9eeeee6f17f42d9b0d3b79e75ca</td>\n",
       "      <td>7437560d8f276d6d05eeb806d9e7edee</td>\n",
       "      <td>737295a86982c941f1c2da9a46a14043</td>\n",
       "      <td>2013-03-26 00:00:00</td>\n",
       "      <td>135270</td>\n",
       "      <td>0</td>\n",
       "      <td>SAL</td>\n",
       "      <td>SAL</td>\n",
       "      <td>SV</td>\n",
       "      <td>CLT</td>\n",
       "      <td>CLT</td>\n",
       "      <td>US</td>\n",
       "      <td>SAL</td>\n",
       "      <td>SAL</td>\n",
       "      <td>SV</td>\n",
       "      <td>SAL</td>\n",
       "      <td>SAL</td>\n",
       "      <td>SV</td>\n",
       "      <td>CLT</td>\n",
       "      <td>CLT</td>\n",
       "      <td>US</td>\n",
       "      <td>CLTSAL</td>\n",
       "      <td>CLTSAL</td>\n",
       "      <td>SVUS</td>\n",
       "      <td>1</td>\n",
       "      <td>SALATLCLT</td>\n",
       "      <td>NV</td>\n",
       "      <td>L</td>\n",
       "      <td>Y</td>\n",
       "      <td>2013-04-12 13:04:00</td>\n",
       "      <td>2013-04-12 22:05:40</td>\n",
       "      <td>1</td>\n",
       "      <td>2013</td>\n",
       "      <td>3</td>\n",
       "      <td>NULL</td>\n",
       "    </tr>\n",
       "    <tr>\n",
       "      <th>2</th>\n",
       "      <td>2013-03-26 00:00:00</td>\n",
       "      <td>1A</td>\n",
       "      <td>US</td>\n",
       "      <td>e612b9eeeee6f17f42d9b0d3b79e75ca</td>\n",
       "      <td>7437560d8f276d6d05eeb806d9e7edee</td>\n",
       "      <td>737295a86982c941f1c2da9a46a14043</td>\n",
       "      <td>2013-03-26 00:00:00</td>\n",
       "      <td>135270</td>\n",
       "      <td>0</td>\n",
       "      <td>SAL</td>\n",
       "      <td>SAL</td>\n",
       "      <td>SV</td>\n",
       "      <td>CLT</td>\n",
       "      <td>CLT</td>\n",
       "      <td>US</td>\n",
       "      <td>SAL</td>\n",
       "      <td>SAL</td>\n",
       "      <td>SV</td>\n",
       "      <td>CLT</td>\n",
       "      <td>CLT</td>\n",
       "      <td>US</td>\n",
       "      <td>SAL</td>\n",
       "      <td>SAL</td>\n",
       "      <td>SV</td>\n",
       "      <td>CLTSAL</td>\n",
       "      <td>CLTSAL</td>\n",
       "      <td>SVUS</td>\n",
       "      <td>1</td>\n",
       "      <td>CLTATLSAL</td>\n",
       "      <td>NV</td>\n",
       "      <td>U</td>\n",
       "      <td>Y</td>\n",
       "      <td>2013-07-15 07:00:00</td>\n",
       "      <td>2013-07-15 11:34:51</td>\n",
       "      <td>1</td>\n",
       "      <td>2013</td>\n",
       "      <td>3</td>\n",
       "      <td>NULL</td>\n",
       "    </tr>\n",
       "    <tr>\n",
       "      <th>3</th>\n",
       "      <td>2013-03-26 00:00:00</td>\n",
       "      <td>1A</td>\n",
       "      <td>AU</td>\n",
       "      <td>0f984b3bb6bd06661c95529bbd6193bc</td>\n",
       "      <td>36472c6dbaf7afec9136ac40364e2794</td>\n",
       "      <td>5ecf00fdcbcec761c43dc7285253d0c1</td>\n",
       "      <td>2013-03-26 00:00:00</td>\n",
       "      <td>30885</td>\n",
       "      <td>0</td>\n",
       "      <td>AKL</td>\n",
       "      <td>AKL</td>\n",
       "      <td>NZ</td>\n",
       "      <td>SVO</td>\n",
       "      <td>MOW</td>\n",
       "      <td>RU</td>\n",
       "      <td>AKL</td>\n",
       "      <td>AKL</td>\n",
       "      <td>NZ</td>\n",
       "      <td>AKL</td>\n",
       "      <td>AKL</td>\n",
       "      <td>NZ</td>\n",
       "      <td>SVO</td>\n",
       "      <td>MOW</td>\n",
       "      <td>RU</td>\n",
       "      <td>AKLSVO</td>\n",
       "      <td>AKLMOW</td>\n",
       "      <td>NZRU</td>\n",
       "      <td>1</td>\n",
       "      <td>AKLHKGSVO</td>\n",
       "      <td>XK</td>\n",
       "      <td>G</td>\n",
       "      <td>Y</td>\n",
       "      <td>2013-04-24 23:59:00</td>\n",
       "      <td>2013-04-25 16:06:31</td>\n",
       "      <td>1</td>\n",
       "      <td>2013</td>\n",
       "      <td>3</td>\n",
       "      <td>SYDA82546</td>\n",
       "    </tr>\n",
       "    <tr>\n",
       "      <th>4</th>\n",
       "      <td>2013-03-26 00:00:00</td>\n",
       "      <td>1A</td>\n",
       "      <td>AU</td>\n",
       "      <td>0f984b3bb6bd06661c95529bbd6193bc</td>\n",
       "      <td>36472c6dbaf7afec9136ac40364e2794</td>\n",
       "      <td>5ecf00fdcbcec761c43dc7285253d0c1</td>\n",
       "      <td>2013-03-26 00:00:00</td>\n",
       "      <td>30885</td>\n",
       "      <td>0</td>\n",
       "      <td>AKL</td>\n",
       "      <td>AKL</td>\n",
       "      <td>NZ</td>\n",
       "      <td>SVO</td>\n",
       "      <td>MOW</td>\n",
       "      <td>RU</td>\n",
       "      <td>AKL</td>\n",
       "      <td>AKL</td>\n",
       "      <td>NZ</td>\n",
       "      <td>SVO</td>\n",
       "      <td>MOW</td>\n",
       "      <td>RU</td>\n",
       "      <td>AKL</td>\n",
       "      <td>AKL</td>\n",
       "      <td>NZ</td>\n",
       "      <td>AKLSVO</td>\n",
       "      <td>AKLMOW</td>\n",
       "      <td>NZRU</td>\n",
       "      <td>1</td>\n",
       "      <td>SVOHKGAKL</td>\n",
       "      <td>XK</td>\n",
       "      <td>G</td>\n",
       "      <td>Y</td>\n",
       "      <td>2013-05-14 20:15:00</td>\n",
       "      <td>2013-05-16 10:44:50</td>\n",
       "      <td>1</td>\n",
       "      <td>2013</td>\n",
       "      <td>3</td>\n",
       "      <td>SYDA82546</td>\n",
       "    </tr>\n",
       "  </tbody>\n",
       "</table>\n",
       "</div>"
      ],
      "text/plain": [
       "   act_date             source  pos_ctry                          pos_iata  \\\n",
       "0  2013-03-05 00:00:00  1A      DE        a68dd7ae953c8acfb187a1af2dcbe123   \n",
       "1  2013-03-26 00:00:00  1A      US        e612b9eeeee6f17f42d9b0d3b79e75ca   \n",
       "2  2013-03-26 00:00:00  1A      US        e612b9eeeee6f17f42d9b0d3b79e75ca   \n",
       "3  2013-03-26 00:00:00  1A      AU        0f984b3bb6bd06661c95529bbd6193bc   \n",
       "4  2013-03-26 00:00:00  1A      AU        0f984b3bb6bd06661c95529bbd6193bc   \n",
       "\n",
       "                          pos_oid                      rloc            \\\n",
       "0  1a11ae49fcbf545fd2afc1a24d88d2b7  ea65900e72d71f4626378e2ebd298267   \n",
       "1  7437560d8f276d6d05eeb806d9e7edee  737295a86982c941f1c2da9a46a14043   \n",
       "2  7437560d8f276d6d05eeb806d9e7edee  737295a86982c941f1c2da9a46a14043   \n",
       "3  36472c6dbaf7afec9136ac40364e2794  5ecf00fdcbcec761c43dc7285253d0c1   \n",
       "4  36472c6dbaf7afec9136ac40364e2794  5ecf00fdcbcec761c43dc7285253d0c1   \n",
       "\n",
       "   cre_date             duration  distance  dep_port  dep_city  dep_ctry  \\\n",
       "0  2013-02-22 00:00:00      1708         0  ZRH       ZRH       CH         \n",
       "1  2013-03-26 00:00:00    135270         0  SAL       SAL       SV         \n",
       "2  2013-03-26 00:00:00    135270         0  SAL       SAL       SV         \n",
       "3  2013-03-26 00:00:00     30885         0  AKL       AKL       NZ         \n",
       "4  2013-03-26 00:00:00     30885         0  AKL       AKL       NZ         \n",
       "\n",
       "   arr_port  arr_city  arr_ctry  lst_port  lst_city  lst_ctry  brd_port  \\\n",
       "0  LHR       LON       GB        ZRH       ZRH       CH        LHR        \n",
       "1  CLT       CLT       US        SAL       SAL       SV        SAL        \n",
       "2  CLT       CLT       US        SAL       SAL       SV        CLT        \n",
       "3  SVO       MOW       RU        AKL       AKL       NZ        AKL        \n",
       "4  SVO       MOW       RU        AKL       AKL       NZ        SVO        \n",
       "\n",
       "   brd_city  brd_ctry  off_port  off_city  off_ctry  mkt_port  mkt_city  \\\n",
       "0  LON       GB        ZRH       ZRH       CH        LHRZRH    LONZRH     \n",
       "1  SAL       SV        CLT       CLT       US        CLTSAL    CLTSAL     \n",
       "2  CLT       US        SAL       SAL       SV        CLTSAL    CLTSAL     \n",
       "3  AKL       NZ        SVO       MOW       RU        AKLSVO    AKLMOW     \n",
       "4  MOW       RU        AKL       AKL       NZ        AKLSVO    AKLMOW     \n",
       "\n",
       "   mkt_ctry  intl  route           carrier  bkg_class  cab_class  \\\n",
       "0  CHGB         1  LHRZRH               VI  T          Y           \n",
       "1  SVUS         1  SALATLCLT            NV  L          Y           \n",
       "2  SVUS         1  CLTATLSAL            NV  U          Y           \n",
       "3  NZRU         1  AKLHKGSVO            XK  G          Y           \n",
       "4  NZRU         1  SVOHKGAKL            XK  G          Y           \n",
       "\n",
       "   brd_time             off_time             pax  year  month  oid        \n",
       "0  2013-03-07 08:50:00  2013-03-07 11:33:37   -1  2013      3  NULL       \n",
       "1  2013-04-12 13:04:00  2013-04-12 22:05:40    1  2013      3  NULL       \n",
       "2  2013-07-15 07:00:00  2013-07-15 11:34:51    1  2013      3  NULL       \n",
       "3  2013-04-24 23:59:00  2013-04-25 16:06:31    1  2013      3  SYDA82546  \n",
       "4  2013-05-14 20:15:00  2013-05-16 10:44:50    1  2013      3  SYDA82546  "
      ]
     },
     "execution_count": 84,
     "metadata": {},
     "output_type": "execute_result"
    }
   ],
   "source": [
    "b.head()"
   ]
  },
  {
   "cell_type": "code",
   "execution_count": 85,
   "metadata": {
    "collapsed": true
   },
   "outputs": [],
   "source": [
    "#rloc: codigo unico de reserva\n",
    "#route: es la ruta, cada aeropuerto tiene 3 letras\n",
    "#off_time: aterrizaje\n",
    "#pax: numero de pasajeros (números negatigos son pasajeros que han cancelado)\n",
    "#La columna buena es ACT_DATE\n",
    "#source: 1A es Amadeus"
   ]
  },
  {
   "cell_type": "code",
   "execution_count": 86,
   "metadata": {
    "collapsed": false
   },
   "outputs": [
    {
     "data": {
      "text/html": [
       "<div>\n",
       "<table border=\"1\" class=\"dataframe\">\n",
       "  <thead>\n",
       "    <tr style=\"text-align: right;\">\n",
       "      <th></th>\n",
       "      <th>duration</th>\n",
       "      <th>distance</th>\n",
       "      <th>intl</th>\n",
       "      <th>pax</th>\n",
       "      <th>year</th>\n",
       "      <th>month</th>\n",
       "    </tr>\n",
       "  </thead>\n",
       "  <tbody>\n",
       "    <tr>\n",
       "      <th>count</th>\n",
       "      <td>999.000000</td>\n",
       "      <td>999.000000</td>\n",
       "      <td>999.000000</td>\n",
       "      <td>999.000000</td>\n",
       "      <td>999.0</td>\n",
       "      <td>999.0</td>\n",
       "    </tr>\n",
       "    <tr>\n",
       "      <th>mean</th>\n",
       "      <td>23959.061061</td>\n",
       "      <td>405.376376</td>\n",
       "      <td>0.643644</td>\n",
       "      <td>0.533534</td>\n",
       "      <td>2013.0</td>\n",
       "      <td>3.0</td>\n",
       "    </tr>\n",
       "    <tr>\n",
       "      <th>std</th>\n",
       "      <td>54481.250534</td>\n",
       "      <td>1489.219442</td>\n",
       "      <td>0.479162</td>\n",
       "      <td>1.976471</td>\n",
       "      <td>0.0</td>\n",
       "      <td>0.0</td>\n",
       "    </tr>\n",
       "    <tr>\n",
       "      <th>min</th>\n",
       "      <td>61.000000</td>\n",
       "      <td>0.000000</td>\n",
       "      <td>0.000000</td>\n",
       "      <td>-8.000000</td>\n",
       "      <td>2013.0</td>\n",
       "      <td>3.0</td>\n",
       "    </tr>\n",
       "    <tr>\n",
       "      <th>25%</th>\n",
       "      <td>3493.000000</td>\n",
       "      <td>0.000000</td>\n",
       "      <td>0.000000</td>\n",
       "      <td>-1.000000</td>\n",
       "      <td>2013.0</td>\n",
       "      <td>3.0</td>\n",
       "    </tr>\n",
       "    <tr>\n",
       "      <th>50%</th>\n",
       "      <td>6936.000000</td>\n",
       "      <td>0.000000</td>\n",
       "      <td>1.000000</td>\n",
       "      <td>1.000000</td>\n",
       "      <td>2013.0</td>\n",
       "      <td>3.0</td>\n",
       "    </tr>\n",
       "    <tr>\n",
       "      <th>75%</th>\n",
       "      <td>17940.000000</td>\n",
       "      <td>0.000000</td>\n",
       "      <td>1.000000</td>\n",
       "      <td>1.000000</td>\n",
       "      <td>2013.0</td>\n",
       "      <td>3.0</td>\n",
       "    </tr>\n",
       "    <tr>\n",
       "      <th>max</th>\n",
       "      <td>482174.000000</td>\n",
       "      <td>10995.000000</td>\n",
       "      <td>1.000000</td>\n",
       "      <td>21.000000</td>\n",
       "      <td>2013.0</td>\n",
       "      <td>3.0</td>\n",
       "    </tr>\n",
       "  </tbody>\n",
       "</table>\n",
       "</div>"
      ],
      "text/plain": [
       "            duration      distance        intl         pax    year  month\n",
       "count     999.000000    999.000000  999.000000  999.000000   999.0  999.0\n",
       "mean    23959.061061    405.376376    0.643644    0.533534  2013.0    3.0\n",
       "std     54481.250534   1489.219442    0.479162    1.976471     0.0    0.0\n",
       "min        61.000000      0.000000    0.000000   -8.000000  2013.0    3.0\n",
       "25%      3493.000000      0.000000    0.000000   -1.000000  2013.0    3.0\n",
       "50%      6936.000000      0.000000    1.000000    1.000000  2013.0    3.0\n",
       "75%     17940.000000      0.000000    1.000000    1.000000  2013.0    3.0\n",
       "max    482174.000000  10995.000000    1.000000   21.000000  2013.0    3.0"
      ]
     },
     "execution_count": 86,
     "metadata": {},
     "output_type": "execute_result"
    }
   ],
   "source": [
    "b.describe() #Nos devuelve,para las columnas numericas, algo de informacion"
   ]
  },
  {
   "cell_type": "code",
   "execution_count": 89,
   "metadata": {
    "collapsed": false
   },
   "outputs": [
    {
     "data": {
      "text/plain": [
       "act_date               object\n",
       "source                 object\n",
       "pos_ctry               object\n",
       "pos_iata               object\n",
       "pos_oid                object\n",
       "rloc                   object\n",
       "cre_date               object\n",
       "duration                int64\n",
       "distance                int64\n",
       "dep_port               object\n",
       "dep_city               object\n",
       "dep_ctry               object\n",
       "arr_port               object\n",
       "arr_city               object\n",
       "arr_ctry               object\n",
       "lst_port               object\n",
       "lst_city               object\n",
       "lst_ctry               object\n",
       "brd_port               object\n",
       "brd_city               object\n",
       "brd_ctry               object\n",
       "off_port               object\n",
       "off_city               object\n",
       "off_ctry               object\n",
       "mkt_port               object\n",
       "mkt_city               object\n",
       "mkt_ctry               object\n",
       "intl                    int64\n",
       "route                  object\n",
       "carrier                object\n",
       "bkg_class              object\n",
       "cab_class              object\n",
       "brd_time               object\n",
       "off_time               object\n",
       "pax                     int64\n",
       "year                    int64\n",
       "month                   int64\n",
       "oid                    object\n",
       "dtype: object"
      ]
     },
     "execution_count": 89,
     "metadata": {},
     "output_type": "execute_result"
    }
   ],
   "source": [
    "b.dtypes #object es string"
   ]
  },
  {
   "cell_type": "code",
   "execution_count": 90,
   "metadata": {
    "collapsed": false
   },
   "outputs": [
    {
     "data": {
      "text/plain": [
       "act_date               0\n",
       "source                 0\n",
       "pos_ctry               0\n",
       "pos_iata               0\n",
       "pos_oid                0\n",
       "rloc                   0\n",
       "cre_date               0\n",
       "duration               0\n",
       "distance               0\n",
       "dep_port               0\n",
       "dep_city               0\n",
       "dep_ctry               0\n",
       "arr_port               0\n",
       "arr_city               0\n",
       "arr_ctry               0\n",
       "lst_port               0\n",
       "lst_city               0\n",
       "lst_ctry               0\n",
       "brd_port               0\n",
       "brd_city               0\n",
       "brd_ctry               0\n",
       "off_port               0\n",
       "off_city               0\n",
       "off_ctry               0\n",
       "mkt_port               0\n",
       "mkt_city               0\n",
       "mkt_ctry               0\n",
       "intl                   0\n",
       "route                  0\n",
       "carrier                0\n",
       "bkg_class              0\n",
       "cab_class              0\n",
       "brd_time               0\n",
       "off_time               0\n",
       "pax                    0\n",
       "year                   0\n",
       "month                  0\n",
       "oid                    0\n",
       "dtype: int64"
      ]
     },
     "execution_count": 90,
     "metadata": {},
     "output_type": "execute_result"
    }
   ],
   "source": [
    "b.isnull().sum()"
   ]
  },
  {
   "cell_type": "code",
   "execution_count": 91,
   "metadata": {
    "collapsed": false
   },
   "outputs": [
    {
     "data": {
      "text/plain": [
       "act_date               999\n",
       "source                 999\n",
       "pos_ctry               999\n",
       "pos_iata               999\n",
       "pos_oid                999\n",
       "rloc                   999\n",
       "cre_date               999\n",
       "duration               999\n",
       "distance               999\n",
       "dep_port               999\n",
       "dep_city               999\n",
       "dep_ctry               999\n",
       "arr_port               999\n",
       "arr_city               999\n",
       "arr_ctry               999\n",
       "lst_port               999\n",
       "lst_city               999\n",
       "lst_ctry               999\n",
       "brd_port               999\n",
       "brd_city               999\n",
       "brd_ctry               999\n",
       "off_port               999\n",
       "off_city               999\n",
       "off_ctry               999\n",
       "mkt_port               999\n",
       "mkt_city               999\n",
       "mkt_ctry               999\n",
       "intl                   999\n",
       "route                  999\n",
       "carrier                999\n",
       "bkg_class              999\n",
       "cab_class              999\n",
       "brd_time               999\n",
       "off_time               999\n",
       "pax                    999\n",
       "year                   999\n",
       "month                  999\n",
       "oid                    999\n",
       "dtype: int64"
      ]
     },
     "execution_count": 91,
     "metadata": {},
     "output_type": "execute_result"
    }
   ],
   "source": [
    "b.count()"
   ]
  },
  {
   "cell_type": "code",
   "execution_count": 92,
   "metadata": {
    "collapsed": false
   },
   "outputs": [
    {
     "data": {
      "text/html": [
       "<div>\n",
       "<table border=\"1\" class=\"dataframe\">\n",
       "  <thead>\n",
       "    <tr style=\"text-align: right;\">\n",
       "      <th></th>\n",
       "      <th>act_date</th>\n",
       "      <th>source</th>\n",
       "      <th>pos_ctry</th>\n",
       "      <th>pos_iata</th>\n",
       "      <th>pos_oid</th>\n",
       "      <th>rloc</th>\n",
       "      <th>cre_date</th>\n",
       "      <th>duration</th>\n",
       "      <th>distance</th>\n",
       "      <th>dep_port</th>\n",
       "      <th>dep_city</th>\n",
       "      <th>dep_ctry</th>\n",
       "      <th>arr_port</th>\n",
       "      <th>arr_city</th>\n",
       "      <th>arr_ctry</th>\n",
       "      <th>lst_port</th>\n",
       "      <th>lst_city</th>\n",
       "      <th>lst_ctry</th>\n",
       "      <th>brd_port</th>\n",
       "      <th>brd_city</th>\n",
       "      <th>brd_ctry</th>\n",
       "      <th>off_port</th>\n",
       "      <th>off_city</th>\n",
       "      <th>off_ctry</th>\n",
       "      <th>mkt_port</th>\n",
       "      <th>mkt_city</th>\n",
       "      <th>mkt_ctry</th>\n",
       "      <th>intl</th>\n",
       "      <th>route</th>\n",
       "      <th>carrier</th>\n",
       "      <th>bkg_class</th>\n",
       "      <th>cab_class</th>\n",
       "      <th>brd_time</th>\n",
       "      <th>off_time</th>\n",
       "      <th>pax</th>\n",
       "      <th>year</th>\n",
       "      <th>month</th>\n",
       "      <th>oid</th>\n",
       "    </tr>\n",
       "  </thead>\n",
       "  <tbody>\n",
       "    <tr>\n",
       "      <th>994</th>\n",
       "      <td>2013-03-23 00:00:00</td>\n",
       "      <td>1P</td>\n",
       "      <td>US</td>\n",
       "      <td>bfafedb1505531ad8e70e176941a7ad0</td>\n",
       "      <td>804deeaddf16e6a93d36e5d046040d60</td>\n",
       "      <td>be83fd657625d53f58c5d3070cdb41b8</td>\n",
       "      <td>2013-03-06 00:00:00</td>\n",
       "      <td>5570</td>\n",
       "      <td>0</td>\n",
       "      <td>SLC</td>\n",
       "      <td>SLC</td>\n",
       "      <td>US</td>\n",
       "      <td>MSN</td>\n",
       "      <td>MSN</td>\n",
       "      <td>US</td>\n",
       "      <td>SLC</td>\n",
       "      <td>SLC</td>\n",
       "      <td>US</td>\n",
       "      <td>SLC</td>\n",
       "      <td>SLC</td>\n",
       "      <td>US</td>\n",
       "      <td>MSN</td>\n",
       "      <td>MSN</td>\n",
       "      <td>US</td>\n",
       "      <td>MSNSLC</td>\n",
       "      <td>MSNSLC</td>\n",
       "      <td>USUS</td>\n",
       "      <td>0</td>\n",
       "      <td>SLCMSN</td>\n",
       "      <td>NV</td>\n",
       "      <td>K</td>\n",
       "      <td>Y</td>\n",
       "      <td>2013-05-20 14:00:00</td>\n",
       "      <td>2013-05-20 18:00:55</td>\n",
       "      <td>-1</td>\n",
       "      <td>2013</td>\n",
       "      <td>3</td>\n",
       "      <td>NULL</td>\n",
       "    </tr>\n",
       "    <tr>\n",
       "      <th>995</th>\n",
       "      <td>2013-03-23 00:00:00</td>\n",
       "      <td>1P</td>\n",
       "      <td>US</td>\n",
       "      <td>bfafedb1505531ad8e70e176941a7ad0</td>\n",
       "      <td>804deeaddf16e6a93d36e5d046040d60</td>\n",
       "      <td>be83fd657625d53f58c5d3070cdb41b8</td>\n",
       "      <td>2013-03-06 00:00:00</td>\n",
       "      <td>5570</td>\n",
       "      <td>0</td>\n",
       "      <td>SLC</td>\n",
       "      <td>SLC</td>\n",
       "      <td>US</td>\n",
       "      <td>MSN</td>\n",
       "      <td>MSN</td>\n",
       "      <td>US</td>\n",
       "      <td>SLC</td>\n",
       "      <td>SLC</td>\n",
       "      <td>US</td>\n",
       "      <td>SLC</td>\n",
       "      <td>SLC</td>\n",
       "      <td>US</td>\n",
       "      <td>MSN</td>\n",
       "      <td>MSN</td>\n",
       "      <td>US</td>\n",
       "      <td>MSNSLC</td>\n",
       "      <td>MSNSLC</td>\n",
       "      <td>USUS</td>\n",
       "      <td>0</td>\n",
       "      <td>SLCMSN</td>\n",
       "      <td>NV</td>\n",
       "      <td>K</td>\n",
       "      <td>Y</td>\n",
       "      <td>2013-05-20 14:00:00</td>\n",
       "      <td>2013-05-20 18:00:55</td>\n",
       "      <td>1</td>\n",
       "      <td>2013</td>\n",
       "      <td>3</td>\n",
       "      <td>NULL</td>\n",
       "    </tr>\n",
       "    <tr>\n",
       "      <th>996</th>\n",
       "      <td>2013-03-06 00:00:00</td>\n",
       "      <td>1P</td>\n",
       "      <td>US</td>\n",
       "      <td>83ccf07a55606976f78e63fcc805f58c</td>\n",
       "      <td>1490c3c5f95f04fa076fe15c775a80a9</td>\n",
       "      <td>691f15622668e671f51ba033ea904398</td>\n",
       "      <td>2013-03-06 00:00:00</td>\n",
       "      <td>4664</td>\n",
       "      <td>0</td>\n",
       "      <td>SNA</td>\n",
       "      <td>SNA</td>\n",
       "      <td>US</td>\n",
       "      <td>SFO</td>\n",
       "      <td>SFO</td>\n",
       "      <td>US</td>\n",
       "      <td>SNA</td>\n",
       "      <td>SNA</td>\n",
       "      <td>US</td>\n",
       "      <td>SNA</td>\n",
       "      <td>SNA</td>\n",
       "      <td>US</td>\n",
       "      <td>SFO</td>\n",
       "      <td>SFO</td>\n",
       "      <td>US</td>\n",
       "      <td>SFOSNA</td>\n",
       "      <td>SFOSNA</td>\n",
       "      <td>USUS</td>\n",
       "      <td>0</td>\n",
       "      <td>SNASFO</td>\n",
       "      <td>FK</td>\n",
       "      <td>V</td>\n",
       "      <td>Y</td>\n",
       "      <td>2013-03-17 13:31:00</td>\n",
       "      <td>2013-03-17 15:01:12</td>\n",
       "      <td>1</td>\n",
       "      <td>2013</td>\n",
       "      <td>3</td>\n",
       "      <td>NULL</td>\n",
       "    </tr>\n",
       "    <tr>\n",
       "      <th>997</th>\n",
       "      <td>2013-03-06 00:00:00</td>\n",
       "      <td>1P</td>\n",
       "      <td>US</td>\n",
       "      <td>83ccf07a55606976f78e63fcc805f58c</td>\n",
       "      <td>1490c3c5f95f04fa076fe15c775a80a9</td>\n",
       "      <td>691f15622668e671f51ba033ea904398</td>\n",
       "      <td>2013-03-06 00:00:00</td>\n",
       "      <td>4664</td>\n",
       "      <td>0</td>\n",
       "      <td>SNA</td>\n",
       "      <td>SNA</td>\n",
       "      <td>US</td>\n",
       "      <td>SFO</td>\n",
       "      <td>SFO</td>\n",
       "      <td>US</td>\n",
       "      <td>SNA</td>\n",
       "      <td>SNA</td>\n",
       "      <td>US</td>\n",
       "      <td>SFO</td>\n",
       "      <td>SFO</td>\n",
       "      <td>US</td>\n",
       "      <td>SNA</td>\n",
       "      <td>SNA</td>\n",
       "      <td>US</td>\n",
       "      <td>SFOSNA</td>\n",
       "      <td>SFOSNA</td>\n",
       "      <td>USUS</td>\n",
       "      <td>0</td>\n",
       "      <td>SFOSNA</td>\n",
       "      <td>FK</td>\n",
       "      <td>W</td>\n",
       "      <td>Y</td>\n",
       "      <td>2013-03-20 17:45:00</td>\n",
       "      <td>2013-03-20 19:15:12</td>\n",
       "      <td>1</td>\n",
       "      <td>2013</td>\n",
       "      <td>3</td>\n",
       "      <td>NULL</td>\n",
       "    </tr>\n",
       "    <tr>\n",
       "      <th>998</th>\n",
       "      <td>2013-03-06 00:00:00</td>\n",
       "      <td>1P</td>\n",
       "      <td>US</td>\n",
       "      <td>0deb0937d0f143f79505297b235eaeeb</td>\n",
       "      <td>f4ae494f0ebec1d84f6e01750d61747d</td>\n",
       "      <td>bed521f09feee94fcb87f705267b0327</td>\n",
       "      <td>2013-03-06 00:00:00</td>\n",
       "      <td>331</td>\n",
       "      <td>2598</td>\n",
       "      <td>LAX</td>\n",
       "      <td>LAX</td>\n",
       "      <td>US</td>\n",
       "      <td>MEM</td>\n",
       "      <td>MEM</td>\n",
       "      <td>US</td>\n",
       "      <td>MEM</td>\n",
       "      <td>MEM</td>\n",
       "      <td>US</td>\n",
       "      <td>LAX</td>\n",
       "      <td>LAX</td>\n",
       "      <td>US</td>\n",
       "      <td>MEM</td>\n",
       "      <td>MEM</td>\n",
       "      <td>US</td>\n",
       "      <td>LAXMEM</td>\n",
       "      <td>LAXMEM</td>\n",
       "      <td>USUS</td>\n",
       "      <td>0</td>\n",
       "      <td>LAXDFWMEM</td>\n",
       "      <td>KK</td>\n",
       "      <td>Y</td>\n",
       "      <td>Y</td>\n",
       "      <td>2013-03-09 07:30:00</td>\n",
       "      <td>2013-03-09 15:01:52</td>\n",
       "      <td>1</td>\n",
       "      <td>2013</td>\n",
       "      <td>3</td>\n",
       "      <td>NULL</td>\n",
       "    </tr>\n",
       "  </tbody>\n",
       "</table>\n",
       "</div>"
      ],
      "text/plain": [
       "     act_date             source  pos_ctry                          pos_iata  \\\n",
       "994  2013-03-23 00:00:00  1P      US        bfafedb1505531ad8e70e176941a7ad0   \n",
       "995  2013-03-23 00:00:00  1P      US        bfafedb1505531ad8e70e176941a7ad0   \n",
       "996  2013-03-06 00:00:00  1P      US        83ccf07a55606976f78e63fcc805f58c   \n",
       "997  2013-03-06 00:00:00  1P      US        83ccf07a55606976f78e63fcc805f58c   \n",
       "998  2013-03-06 00:00:00  1P      US        0deb0937d0f143f79505297b235eaeeb   \n",
       "\n",
       "                            pos_oid                      rloc            \\\n",
       "994  804deeaddf16e6a93d36e5d046040d60  be83fd657625d53f58c5d3070cdb41b8   \n",
       "995  804deeaddf16e6a93d36e5d046040d60  be83fd657625d53f58c5d3070cdb41b8   \n",
       "996  1490c3c5f95f04fa076fe15c775a80a9  691f15622668e671f51ba033ea904398   \n",
       "997  1490c3c5f95f04fa076fe15c775a80a9  691f15622668e671f51ba033ea904398   \n",
       "998  f4ae494f0ebec1d84f6e01750d61747d  bed521f09feee94fcb87f705267b0327   \n",
       "\n",
       "     cre_date             duration  distance  dep_port  dep_city  dep_ctry  \\\n",
       "994  2013-03-06 00:00:00      5570         0  SLC       SLC       US         \n",
       "995  2013-03-06 00:00:00      5570         0  SLC       SLC       US         \n",
       "996  2013-03-06 00:00:00      4664         0  SNA       SNA       US         \n",
       "997  2013-03-06 00:00:00      4664         0  SNA       SNA       US         \n",
       "998  2013-03-06 00:00:00       331      2598  LAX       LAX       US         \n",
       "\n",
       "     arr_port  arr_city  arr_ctry  lst_port  lst_city  lst_ctry  brd_port  \\\n",
       "994  MSN       MSN       US        SLC       SLC       US        SLC        \n",
       "995  MSN       MSN       US        SLC       SLC       US        SLC        \n",
       "996  SFO       SFO       US        SNA       SNA       US        SNA        \n",
       "997  SFO       SFO       US        SNA       SNA       US        SFO        \n",
       "998  MEM       MEM       US        MEM       MEM       US        LAX        \n",
       "\n",
       "     brd_city  brd_ctry  off_port  off_city  off_ctry  mkt_port  mkt_city  \\\n",
       "994  SLC       US        MSN       MSN       US        MSNSLC    MSNSLC     \n",
       "995  SLC       US        MSN       MSN       US        MSNSLC    MSNSLC     \n",
       "996  SNA       US        SFO       SFO       US        SFOSNA    SFOSNA     \n",
       "997  SFO       US        SNA       SNA       US        SFOSNA    SFOSNA     \n",
       "998  LAX       US        MEM       MEM       US        LAXMEM    LAXMEM     \n",
       "\n",
       "     mkt_ctry  intl  route           carrier  bkg_class  cab_class  \\\n",
       "994  USUS         0  SLCMSN               NV  K          Y           \n",
       "995  USUS         0  SLCMSN               NV  K          Y           \n",
       "996  USUS         0  SNASFO               FK  V          Y           \n",
       "997  USUS         0  SFOSNA               FK  W          Y           \n",
       "998  USUS         0  LAXDFWMEM            KK  Y          Y           \n",
       "\n",
       "     brd_time             off_time             pax  year  month  oid        \n",
       "994  2013-05-20 14:00:00  2013-05-20 18:00:55   -1  2013      3  NULL       \n",
       "995  2013-05-20 14:00:00  2013-05-20 18:00:55    1  2013      3  NULL       \n",
       "996  2013-03-17 13:31:00  2013-03-17 15:01:12    1  2013      3  NULL       \n",
       "997  2013-03-20 17:45:00  2013-03-20 19:15:12    1  2013      3  NULL       \n",
       "998  2013-03-09 07:30:00  2013-03-09 15:01:52    1  2013      3  NULL       "
      ]
     },
     "execution_count": 92,
     "metadata": {},
     "output_type": "execute_result"
    }
   ],
   "source": [
    "b.tail()"
   ]
  },
  {
   "cell_type": "code",
   "execution_count": 93,
   "metadata": {
    "collapsed": false,
    "scrolled": true
   },
   "outputs": [
    {
     "data": {
      "text/plain": [
       "Index([u'act_date           ', u'source', u'pos_ctry', u'pos_iata',\n",
       "       u'pos_oid  ', u'rloc          ', u'cre_date           ', u'duration',\n",
       "       u'distance', u'dep_port', u'dep_city', u'dep_ctry', u'arr_port',\n",
       "       u'arr_city', u'arr_ctry', u'lst_port', u'lst_city', u'lst_ctry',\n",
       "       u'brd_port', u'brd_city', u'brd_ctry', u'off_port', u'off_city',\n",
       "       u'off_ctry', u'mkt_port', u'mkt_city', u'mkt_ctry', u'intl',\n",
       "       u'route          ', u'carrier', u'bkg_class', u'cab_class',\n",
       "       u'brd_time           ', u'off_time           ', u'pax', u'year',\n",
       "       u'month', u'oid      '],\n",
       "      dtype='object')"
      ]
     },
     "execution_count": 93,
     "metadata": {},
     "output_type": "execute_result"
    }
   ],
   "source": [
    "b.columns"
   ]
  },
  {
   "cell_type": "code",
   "execution_count": 95,
   "metadata": {
    "collapsed": false
   },
   "outputs": [
    {
     "data": {
      "text/plain": [
       "['act_date           ',\n",
       " 'source',\n",
       " 'pos_ctry',\n",
       " 'pos_iata',\n",
       " 'pos_oid  ',\n",
       " 'rloc          ',\n",
       " 'cre_date           ',\n",
       " 'duration',\n",
       " 'distance',\n",
       " 'dep_port',\n",
       " 'dep_city',\n",
       " 'dep_ctry',\n",
       " 'arr_port',\n",
       " 'arr_city',\n",
       " 'arr_ctry',\n",
       " 'lst_port',\n",
       " 'lst_city',\n",
       " 'lst_ctry',\n",
       " 'brd_port',\n",
       " 'brd_city',\n",
       " 'brd_ctry',\n",
       " 'off_port',\n",
       " 'off_city',\n",
       " 'off_ctry',\n",
       " 'mkt_port',\n",
       " 'mkt_city',\n",
       " 'mkt_ctry',\n",
       " 'intl',\n",
       " 'route          ',\n",
       " 'carrier',\n",
       " 'bkg_class',\n",
       " 'cab_class',\n",
       " 'brd_time           ',\n",
       " 'off_time           ',\n",
       " 'pax',\n",
       " 'year',\n",
       " 'month',\n",
       " 'oid      ']"
      ]
     },
     "execution_count": 95,
     "metadata": {},
     "output_type": "execute_result"
    }
   ],
   "source": [
    "b.columns.tolist()"
   ]
  },
  {
   "cell_type": "code",
   "execution_count": 94,
   "metadata": {
    "collapsed": true
   },
   "outputs": [],
   "source": [
    "#Hay que quitar los espacios de los nombres de las columnas"
   ]
  },
  {
   "cell_type": "code",
   "execution_count": 96,
   "metadata": {
    "collapsed": true
   },
   "outputs": [],
   "source": [
    "b.columns = b.columns.str.strip()"
   ]
  },
  {
   "cell_type": "code",
   "execution_count": 97,
   "metadata": {
    "collapsed": false
   },
   "outputs": [
    {
     "data": {
      "text/plain": [
       "Index([u'act_date', u'source', u'pos_ctry', u'pos_iata', u'pos_oid', u'rloc',\n",
       "       u'cre_date', u'duration', u'distance', u'dep_port', u'dep_city',\n",
       "       u'dep_ctry', u'arr_port', u'arr_city', u'arr_ctry', u'lst_port',\n",
       "       u'lst_city', u'lst_ctry', u'brd_port', u'brd_city', u'brd_ctry',\n",
       "       u'off_port', u'off_city', u'off_ctry', u'mkt_port', u'mkt_city',\n",
       "       u'mkt_ctry', u'intl', u'route', u'carrier', u'bkg_class', u'cab_class',\n",
       "       u'brd_time', u'off_time', u'pax', u'year', u'month', u'oid'],\n",
       "      dtype='object')"
      ]
     },
     "execution_count": 97,
     "metadata": {},
     "output_type": "execute_result"
    }
   ],
   "source": [
    "b.columns"
   ]
  },
  {
   "cell_type": "code",
   "execution_count": null,
   "metadata": {
    "collapsed": true
   },
   "outputs": [],
   "source": [
    "#Vamos a coger solamente las columnas que nos interesan por ahora"
   ]
  },
  {
   "cell_type": "code",
   "execution_count": 99,
   "metadata": {
    "collapsed": false
   },
   "outputs": [],
   "source": [
    "b = pd.read_csv('./bookings.sample.csv.bz2', sep = '^', usecols = ['arr_port', 'pax', 'year'])"
   ]
  },
  {
   "cell_type": "code",
   "execution_count": 100,
   "metadata": {
    "collapsed": false
   },
   "outputs": [
    {
     "data": {
      "text/html": [
       "<div>\n",
       "<table border=\"1\" class=\"dataframe\">\n",
       "  <thead>\n",
       "    <tr style=\"text-align: right;\">\n",
       "      <th></th>\n",
       "      <th>arr_port</th>\n",
       "      <th>pax</th>\n",
       "      <th>year</th>\n",
       "    </tr>\n",
       "  </thead>\n",
       "  <tbody>\n",
       "    <tr>\n",
       "      <th>0</th>\n",
       "      <td>LHR</td>\n",
       "      <td>-1</td>\n",
       "      <td>2013</td>\n",
       "    </tr>\n",
       "    <tr>\n",
       "      <th>1</th>\n",
       "      <td>CLT</td>\n",
       "      <td>1</td>\n",
       "      <td>2013</td>\n",
       "    </tr>\n",
       "    <tr>\n",
       "      <th>2</th>\n",
       "      <td>CLT</td>\n",
       "      <td>1</td>\n",
       "      <td>2013</td>\n",
       "    </tr>\n",
       "    <tr>\n",
       "      <th>3</th>\n",
       "      <td>SVO</td>\n",
       "      <td>1</td>\n",
       "      <td>2013</td>\n",
       "    </tr>\n",
       "    <tr>\n",
       "      <th>4</th>\n",
       "      <td>SVO</td>\n",
       "      <td>1</td>\n",
       "      <td>2013</td>\n",
       "    </tr>\n",
       "  </tbody>\n",
       "</table>\n",
       "</div>"
      ],
      "text/plain": [
       "   arr_port  pax  year\n",
       "0  LHR        -1  2013\n",
       "1  CLT         1  2013\n",
       "2  CLT         1  2013\n",
       "3  SVO         1  2013\n",
       "4  SVO         1  2013"
      ]
     },
     "execution_count": 100,
     "metadata": {},
     "output_type": "execute_result"
    }
   ],
   "source": [
    "b.head()"
   ]
  },
  {
   "cell_type": "code",
   "execution_count": 102,
   "metadata": {
    "collapsed": true
   },
   "outputs": [],
   "source": [
    "#Seguimos...Qué haremos con los NaN?"
   ]
  },
  {
   "cell_type": "code",
   "execution_count": 104,
   "metadata": {
    "collapsed": false
   },
   "outputs": [
    {
     "data": {
      "text/plain": [
       "arr_port    0\n",
       "pax         0\n",
       "year        0\n",
       "dtype: int64"
      ]
     },
     "execution_count": 104,
     "metadata": {},
     "output_type": "execute_result"
    }
   ],
   "source": [
    "b.isnull().sum()"
   ]
  },
  {
   "cell_type": "code",
   "execution_count": 106,
   "metadata": {
    "collapsed": true
   },
   "outputs": [],
   "source": [
    "b = b.dropna() #Descartamos las filas NaN; \n",
    "#Con b.dropna(how='all') borra la fila si todas las columnas son NaN\n",
    "#Con b.dropna(how='all', axis=1) borra, pero por columna\n",
    "#Así quitamos las filas donde no haya pasajeros, o aeropuerto, etc, ya que no tendría sentido para nuestros calculos"
   ]
  },
  {
   "cell_type": "markdown",
   "metadata": {},
   "source": [
    "# What do we have so far?"
   ]
  },
  {
   "cell_type": "code",
   "execution_count": 108,
   "metadata": {
    "collapsed": false
   },
   "outputs": [
    {
     "data": {
      "text/html": [
       "<div>\n",
       "<table border=\"1\" class=\"dataframe\">\n",
       "  <thead>\n",
       "    <tr style=\"text-align: right;\">\n",
       "      <th></th>\n",
       "      <th>arr_port</th>\n",
       "      <th>pax</th>\n",
       "      <th>year</th>\n",
       "    </tr>\n",
       "  </thead>\n",
       "  <tbody>\n",
       "    <tr>\n",
       "      <th>0</th>\n",
       "      <td>LHR</td>\n",
       "      <td>-1</td>\n",
       "      <td>2013</td>\n",
       "    </tr>\n",
       "    <tr>\n",
       "      <th>1</th>\n",
       "      <td>CLT</td>\n",
       "      <td>1</td>\n",
       "      <td>2013</td>\n",
       "    </tr>\n",
       "    <tr>\n",
       "      <th>2</th>\n",
       "      <td>CLT</td>\n",
       "      <td>1</td>\n",
       "      <td>2013</td>\n",
       "    </tr>\n",
       "    <tr>\n",
       "      <th>3</th>\n",
       "      <td>SVO</td>\n",
       "      <td>1</td>\n",
       "      <td>2013</td>\n",
       "    </tr>\n",
       "    <tr>\n",
       "      <th>4</th>\n",
       "      <td>SVO</td>\n",
       "      <td>1</td>\n",
       "      <td>2013</td>\n",
       "    </tr>\n",
       "  </tbody>\n",
       "</table>\n",
       "</div>"
      ],
      "text/plain": [
       "   arr_port  pax  year\n",
       "0  LHR        -1  2013\n",
       "1  CLT         1  2013\n",
       "2  CLT         1  2013\n",
       "3  SVO         1  2013\n",
       "4  SVO         1  2013"
      ]
     },
     "execution_count": 108,
     "metadata": {},
     "output_type": "execute_result"
    }
   ],
   "source": [
    "import pandas as pd\n",
    "b = pd.read_csv('./bookings.sample.csv.bz2', sep = '^', usecols = ['arr_port', 'pax', 'year'])\n",
    "b = b.dropna()\n",
    "b.head()"
   ]
  },
  {
   "cell_type": "code",
   "execution_count": 109,
   "metadata": {
    "collapsed": true
   },
   "outputs": [],
   "source": [
    "#qué vamos a hacer?...Action plan Top 10 arrival airports in 2013\n",
    "# 1) bookings 2013\n",
    "# 2) groupby airport\n",
    "# 3) sum pax\n",
    "# 4) top 10\n",
    "# HACER UN COMMIT DESPUES DE CADA PASO"
   ]
  },
  {
   "cell_type": "code",
   "execution_count": 120,
   "metadata": {
    "collapsed": false
   },
   "outputs": [
    {
     "name": "stdout",
     "output_type": "stream",
     "text": [
      "999\n"
     ]
    }
   ],
   "source": [
    "#1)\n",
    "b_2013 = b[b['year'] == 2013]\n",
    "print len(b_2013)"
   ]
  },
  {
   "cell_type": "code",
   "execution_count": 121,
   "metadata": {
    "collapsed": false
   },
   "outputs": [
    {
     "data": {
      "text/html": [
       "<div>\n",
       "<table border=\"1\" class=\"dataframe\">\n",
       "  <thead>\n",
       "    <tr style=\"text-align: right;\">\n",
       "      <th></th>\n",
       "      <th>arr_port</th>\n",
       "      <th>pax</th>\n",
       "    </tr>\n",
       "  </thead>\n",
       "  <tbody>\n",
       "    <tr>\n",
       "      <th>0</th>\n",
       "      <td>LHR</td>\n",
       "      <td>-1</td>\n",
       "    </tr>\n",
       "    <tr>\n",
       "      <th>1</th>\n",
       "      <td>CLT</td>\n",
       "      <td>1</td>\n",
       "    </tr>\n",
       "    <tr>\n",
       "      <th>2</th>\n",
       "      <td>CLT</td>\n",
       "      <td>1</td>\n",
       "    </tr>\n",
       "    <tr>\n",
       "      <th>3</th>\n",
       "      <td>SVO</td>\n",
       "      <td>1</td>\n",
       "    </tr>\n",
       "    <tr>\n",
       "      <th>4</th>\n",
       "      <td>SVO</td>\n",
       "      <td>1</td>\n",
       "    </tr>\n",
       "  </tbody>\n",
       "</table>\n",
       "</div>"
      ],
      "text/plain": [
       "   arr_port  pax\n",
       "0  LHR        -1\n",
       "1  CLT         1\n",
       "2  CLT         1\n",
       "3  SVO         1\n",
       "4  SVO         1"
      ]
     },
     "execution_count": 121,
     "metadata": {},
     "output_type": "execute_result"
    }
   ],
   "source": [
    "b = b[b['year'] == 2013]\n",
    "b.drop('year', axis = 1, inplace=True) #Eliminamos la columna year, porque ya no nos hace falta\n",
    "b.head()"
   ]
  },
  {
   "cell_type": "code",
   "execution_count": null,
   "metadata": {
    "collapsed": true
   },
   "outputs": [],
   "source": []
  }
 ],
 "metadata": {
  "kernelspec": {
   "display_name": "Python 2",
   "language": "python",
   "name": "python2"
  },
  "language_info": {
   "codemirror_mode": {
    "name": "ipython",
    "version": 2
   },
   "file_extension": ".py",
   "mimetype": "text/x-python",
   "name": "python",
   "nbconvert_exporter": "python",
   "pygments_lexer": "ipython2",
   "version": "2.7.11"
  }
 },
 "nbformat": 4,
 "nbformat_minor": 0
}
